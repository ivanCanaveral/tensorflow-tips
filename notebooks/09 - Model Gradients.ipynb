{
 "cells": [
  {
   "cell_type": "code",
   "execution_count": null,
   "id": "foster-finding",
   "metadata": {},
   "outputs": [],
   "source": [
    "import json\n",
    "import tensorflow as tf"
   ]
  },
  {
   "cell_type": "code",
   "execution_count": null,
   "id": "revised-particle",
   "metadata": {},
   "outputs": [],
   "source": [
    "x = tf.Variable([1, 2], dtype=tf.float32)"
   ]
  },
  {
   "cell_type": "code",
   "execution_count": null,
   "id": "favorite-interview",
   "metadata": {},
   "outputs": [],
   "source": [
    "@tf.function\n",
    "def f(x):\n",
    "    return tf.square(x)"
   ]
  },
  {
   "cell_type": "code",
   "execution_count": null,
   "id": "trained-title",
   "metadata": {},
   "outputs": [],
   "source": [
    "with tf.GradientTape() as tape:\n",
    "    y = f(x)\n",
    "tape.gradient(y, x)"
   ]
  },
  {
   "cell_type": "code",
   "execution_count": null,
   "id": "optimum-plymouth",
   "metadata": {},
   "outputs": [],
   "source": [
    "x = tf.constant([5, 5], dtype=tf.float16, name='fixed array')"
   ]
  },
  {
   "cell_type": "code",
   "execution_count": null,
   "id": "collected-posting",
   "metadata": {},
   "outputs": [],
   "source": [
    "with tf.GradientTape() as tape:\n",
    "    tape.watch(x)\n",
    "    y = f(x)\n",
    "tape.gradient(y, x)"
   ]
  },
  {
   "cell_type": "code",
   "execution_count": null,
   "id": "choice-summary",
   "metadata": {},
   "outputs": [],
   "source": [
    "x = tf.constant([[1, 1], [5, 5]], dtype=tf.float16, name='fixed array')"
   ]
  },
  {
   "cell_type": "code",
   "execution_count": null,
   "id": "endless-starter",
   "metadata": {},
   "outputs": [],
   "source": [
    "with tf.GradientTape() as tape:\n",
    "    tape.watch(x)\n",
    "    y = f(x)\n",
    "tape.gradient(y, x)"
   ]
  },
  {
   "cell_type": "code",
   "execution_count": null,
   "id": "secure-democracy",
   "metadata": {},
   "outputs": [],
   "source": [
    "tf.sign([-5,5])"
   ]
  },
  {
   "cell_type": "code",
   "execution_count": null,
   "id": "separate-decimal",
   "metadata": {},
   "outputs": [],
   "source": [
    "@tf.function\n",
    "def preprocess_input(input_image):\n",
    "    image = tf.cast(input_image, tf.float32)\n",
    "    resized_image = tf.image.resize(image, (224, 224))\n",
    "    return tf.keras.applications.mobilenet_v2.preprocess_input(resized_image)"
   ]
  },
  {
   "cell_type": "code",
   "execution_count": null,
   "id": "every-lewis",
   "metadata": {},
   "outputs": [],
   "source": [
    "def get_model():\n",
    "    input_layer = tf.keras.layers.Input([None, None, 3], dtype = tf.uint8)\n",
    "    processed_images = tf.keras.layers.Lambda(preprocess_input)(input_layer)\n",
    "    output = tf.keras.applications.MobileNetV2(include_top=True, weights='imagenet')(processed_images)\n",
    "    return tf.keras.Model(inputs=[input_layer], outputs=[output])"
   ]
  },
  {
   "cell_type": "code",
   "execution_count": null,
   "id": "cultural-belief",
   "metadata": {},
   "outputs": [],
   "source": [
    "model = get_model()"
   ]
  },
  {
   "cell_type": "code",
   "execution_count": null,
   "id": "german-gabriel",
   "metadata": {},
   "outputs": [],
   "source": [
    "image_path = tf.keras.utils.get_file(\n",
    "    'YellowLabradorLooking_new.jpg', \n",
    "    'https://storage.googleapis.com/download.tensorflow.org/example_images/YellowLabradorLooking_new.jpg'\n",
    ")\n",
    "image_raw = tf.io.read_file(image_path)\n",
    "images = tf.expand_dims(tf.image.decode_image(image_raw), axis=0)"
   ]
  },
  {
   "cell_type": "code",
   "execution_count": null,
   "id": "impressive-building",
   "metadata": {},
   "outputs": [],
   "source": [
    "images.shape, images.dtype"
   ]
  },
  {
   "cell_type": "code",
   "execution_count": null,
   "id": "partial-graph",
   "metadata": {},
   "outputs": [],
   "source": [
    "tf.keras.applications.mobilenet_v2.decode_predictions(\n",
    "    model.predict(images)\n",
    ")"
   ]
  },
  {
   "cell_type": "code",
   "execution_count": null,
   "id": "sensitive-simulation",
   "metadata": {},
   "outputs": [],
   "source": [
    "tf.saved_model.save(\n",
    "    model,\n",
    "    export_dir='temp',\n",
    "    signatures=None\n",
    ")"
   ]
  },
  {
   "cell_type": "code",
   "execution_count": null,
   "id": "middle-exhibition",
   "metadata": {},
   "outputs": [],
   "source": [
    "def create_adversarial_pattern(input_image, input_label, model):\n",
    "    loss_function = tf.keras.losses.CategoricalCrossentropy()\n",
    "    with tf.GradientTape() as tape:\n",
    "        tape.watch(input_image)\n",
    "        prediction = model(input_image)\n",
    "        loss = loss_function(input_label, prediction)\n",
    "\n",
    "    # Get the gradients of the loss w.r.t the input image.\n",
    "    gradient = tape.gradient(loss, input_image)\n",
    "    # Get the sign of the gradients to create the perturbation\n",
    "    signed_grad = tf.sign(gradient)\n",
    "    return signed_grad"
   ]
  },
  {
   "cell_type": "code",
   "execution_count": null,
   "id": "sunrise-sector",
   "metadata": {},
   "outputs": [],
   "source": [
    "# Get the input label of the image.\n",
    "labrador_retriever_index = 208\n",
    "label = tf.expand_dims(\n",
    "    tf.one_hot(labrador_retriever_index, 1000),\n",
    "    axis=0\n",
    ")"
   ]
  },
  {
   "cell_type": "code",
   "execution_count": null,
   "id": "nutritional-manor",
   "metadata": {},
   "outputs": [],
   "source": [
    "# in order to compute gradients properly, we should preprocess the image before\n",
    "signed_gradients = create_adversarial_pattern(\n",
    "    preprocess_input(images),\n",
    "    label,\n",
    "    tf.keras.applications.MobileNetV2(include_top=True, weights='imagenet')\n",
    ")"
   ]
  },
  {
   "cell_type": "code",
   "execution_count": null,
   "id": "skilled-click",
   "metadata": {},
   "outputs": [],
   "source": [
    "tf.keras.applications.mobilenet_v2.decode_predictions(\n",
    "    tf.keras.applications.MobileNetV2(include_top=True, weights='imagenet').predict(\n",
    "        preprocess_input(images)\n",
    "    )\n",
    ")"
   ]
  },
  {
   "cell_type": "code",
   "execution_count": null,
   "id": "fancy-advice",
   "metadata": {},
   "outputs": [],
   "source": [
    "tf.keras.applications.mobilenet_v2.decode_predictions(\n",
    "    tf.keras.applications.MobileNetV2(include_top=True, weights='imagenet').predict(\n",
    "        preprocess_input(images) + 1/255*signed_gradients\n",
    "    )\n",
    ")"
   ]
  }
 ],
 "metadata": {
  "kernelspec": {
   "display_name": "Python 3",
   "language": "python",
   "name": "python3"
  },
  "language_info": {
   "codemirror_mode": {
    "name": "ipython",
    "version": 3
   },
   "file_extension": ".py",
   "mimetype": "text/x-python",
   "name": "python",
   "nbconvert_exporter": "python",
   "pygments_lexer": "ipython3",
   "version": "3.8.5"
  }
 },
 "nbformat": 4,
 "nbformat_minor": 5
}
