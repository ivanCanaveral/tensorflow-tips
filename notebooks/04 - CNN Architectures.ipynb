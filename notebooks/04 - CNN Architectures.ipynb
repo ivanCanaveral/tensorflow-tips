{
 "cells": [
  {
   "cell_type": "code",
   "execution_count": null,
   "metadata": {},
   "outputs": [],
   "source": [
    "import tensorflow as tf"
   ]
  },
  {
   "cell_type": "markdown",
   "metadata": {},
   "source": [
    "### ResNEt-34 for image classification"
   ]
  },
  {
   "cell_type": "code",
   "execution_count": null,
   "metadata": {},
   "outputs": [],
   "source": [
    "class ResidualUnit(tf.keras.layers.Layer):\n",
    "    def __init__(self, filters, strides=1, activation=\"relu\", **kwargs):\n",
    "        super().__init__(**kwargs)\n",
    "        self.activation = tf.keras.activations.get(activation)\n",
    "        self.main_layers = [\n",
    "            tf.keras.layers.Conv2D(\n",
    "                filters, \n",
    "                3, \n",
    "                strides=strides, \n",
    "                padding=\"same\",\n",
    "                use_bias=False\n",
    "            ),\n",
    "            tf.keras.layers.BatchNormalization(),\n",
    "            self.activation,\n",
    "            tf.keras.layers.Conv2D(\n",
    "                filters,\n",
    "                3,\n",
    "                strides=strides,\n",
    "                padding=\"same\",\n",
    "                use_bias=False\n",
    "            ),\n",
    "            tf.keras.layers.BatchNormalization()\n",
    "        ]\n",
    "        # just if the skip needs a reduction\n",
    "        self.skip_layers = []\n",
    "        if strides > 1:\n",
    "            self.skip_layers = [\n",
    "                tf.keras.layers.Conv2D(\n",
    "                    filters,\n",
    "                    1,\n",
    "                    strides=strides,\n",
    "                    padding=\"same\",\n",
    "                    use_bias=False\n",
    "                ),\n",
    "                tf.keras.layers.BatchNormalization()\n",
    "            ]\n",
    "        \n",
    "    def call(self, inputs):\n",
    "        Z = inputs\n",
    "        for layer in self.main_layers:\n",
    "            Z = layer(Z)\n",
    "        \n",
    "        skip_Z = inputs\n",
    "        for layer in self.skip_layers:\n",
    "            skip_Z = layer(skip_Z)\n",
    "        \n",
    "        return self.activation(Z + Z_skip)"
   ]
  },
  {
   "cell_type": "code",
   "execution_count": null,
   "metadata": {},
   "outputs": [],
   "source": [
    "model = tf.models.Sequential()\n",
    "model.add(\n",
    "    tf.keras.layers.Conv2D(\n",
    "        64,\n",
    "        7,\n",
    "        strides=2,\n",
    "        input_shape=[224, 224, 3],\n",
    "        padding=\"same\",\n",
    "        use_bias=False\n",
    "    )\n",
    ")\n",
    "model.add(tf.keras.layers.BatchNormalization())\n",
    "model.add(\n",
    "    tf.keras.layers.MaxPool2D(\n",
    "        pool_size=3,\n",
    "        strides=2,\n",
    "        padding=\"same\"\n",
    "    )\n",
    ")\n",
    "prev_filters = 64\n",
    "for filters in [64] * 3 + [128] * 4 + [256] * 6 + [512] * 3:\n",
    "    strides = 1 if filters == prev_filters else 2\n",
    "    model.add(\n",
    "        ResidualUnit(\n",
    "            filters,\n",
    "            strides=strides\n",
    "        )\n",
    "    )\n",
    "    prev_filters = filters\n",
    "model.add(tf.keras.layers.GlovalAvgPool2D())\n",
    "model.add(tf.keras.layers.Flatten())\n",
    "model.add(\n",
    "    tf.keras.layers.Dense(\n",
    "        10,\n",
    "        activation=\"softmax\"\n",
    "    )\n",
    ")"
   ]
  }
 ],
 "metadata": {
  "kernelspec": {
   "display_name": "Python 3",
   "language": "python",
   "name": "python3"
  },
  "language_info": {
   "codemirror_mode": {
    "name": "ipython",
    "version": 3
   },
   "file_extension": ".py",
   "mimetype": "text/x-python",
   "name": "python",
   "nbconvert_exporter": "python",
   "pygments_lexer": "ipython3",
   "version": "3.8.5"
  }
 },
 "nbformat": 4,
 "nbformat_minor": 4
}
