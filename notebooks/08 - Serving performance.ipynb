{
 "cells": [
  {
   "cell_type": "markdown",
   "id": "olive-gathering",
   "metadata": {},
   "source": [
    "# Tensorflow serving performance"
   ]
  },
  {
   "cell_type": "markdown",
   "id": "noticed-drawing",
   "metadata": {},
   "source": [
    "## HTTP Urls"
   ]
  },
  {
   "cell_type": "markdown",
   "id": "overall-orleans",
   "metadata": {},
   "source": [
    "We've deployed the sample models from the `models` folders. To reach them we can use one of the following url structures:\n",
    "\n",
    "* `/v1/models/<model name>/versions/<version number>`\n",
    "* `/v1/models/<model name>/labels/<version label>`\n",
    "\n",
    "For example, these urls are equivalent:\n",
    "\n",
    "* `http://model-server:8501/v1/models/conv_model/versions/2`\n",
    "* `http://model-server:8501/v1/models/conv_model/labels/latest`"
   ]
  },
  {
   "cell_type": "markdown",
   "id": "built-beijing",
   "metadata": {},
   "source": [
    "To check that the model is deployed and working, we can directly curl one of those:"
   ]
  },
  {
   "cell_type": "code",
   "execution_count": null,
   "id": "liquid-railway",
   "metadata": {},
   "outputs": [],
   "source": [
    "!curl http://model-server:8501/v1/models/flat_model/versions/1"
   ]
  },
  {
   "cell_type": "markdown",
   "id": "decimal-laugh",
   "metadata": {},
   "source": [
    "## Data "
   ]
  },
  {
   "cell_type": "code",
   "execution_count": null,
   "id": "present-envelope",
   "metadata": {},
   "outputs": [],
   "source": [
    "import os\n",
    "import json\n",
    "import requests\n",
    "import tensorflow as tf\n",
    "import tensorflow_datasets as tfds"
   ]
  },
  {
   "cell_type": "code",
   "execution_count": null,
   "id": "analyzed-blues",
   "metadata": {},
   "outputs": [],
   "source": [
    "images = tfds.load(\n",
    "    'fashion_mnist',\n",
    "    split='test',\n",
    "    shuffle_files=True,\n",
    "    as_supervised=True,\n",
    "    with_info=False,\n",
    ")"
   ]
  },
  {
   "cell_type": "code",
   "execution_count": null,
   "id": "designing-attribute",
   "metadata": {},
   "outputs": [],
   "source": [
    "@tf.function\n",
    "def normalize_img(image, label):\n",
    "  \"\"\"Normalizes images: `uint8` -> `float32`.\"\"\"\n",
    "  return tf.cast(image, tf.float32) / 255., label"
   ]
  },
  {
   "cell_type": "code",
   "execution_count": null,
   "id": "friendly-tomato",
   "metadata": {},
   "outputs": [],
   "source": [
    "images = images.map(\n",
    "    normalize_img, num_parallel_calls=tf.data.experimental.AUTOTUNE)\n",
    "images = images.cache()\n",
    "images = images.batch(256)\n",
    "images = images.prefetch(tf.data.experimental.AUTOTUNE)"
   ]
  },
  {
   "cell_type": "code",
   "execution_count": null,
   "id": "weekly-ending",
   "metadata": {},
   "outputs": [],
   "source": [
    "for images_batch, labels in images.take(1):\n",
    "    print(images_batch.shape)"
   ]
  },
  {
   "cell_type": "code",
   "execution_count": null,
   "id": "valid-banana",
   "metadata": {},
   "outputs": [],
   "source": [
    "test_images = images_batch.numpy()"
   ]
  },
  {
   "cell_type": "markdown",
   "id": "first-dragon",
   "metadata": {},
   "source": [
    "## Requesting"
   ]
  },
  {
   "cell_type": "code",
   "execution_count": null,
   "id": "precious-malpractice",
   "metadata": {
    "scrolled": true
   },
   "outputs": [],
   "source": [
    "data = json.dumps({\"signature_name\": \"serving_default\", \"instances\": test_images.tolist()})\n",
    "print('Data: {}...'.format(data[:80]))"
   ]
  },
  {
   "cell_type": "code",
   "execution_count": null,
   "id": "civilian-boulder",
   "metadata": {},
   "outputs": [],
   "source": [
    "headers = {\"content-type\": \"application/json\"}"
   ]
  },
  {
   "cell_type": "code",
   "execution_count": null,
   "id": "visible-divide",
   "metadata": {},
   "outputs": [],
   "source": [
    "urls = [\n",
    "    'http://model-server:8501/v1/models/conv_model/labels/stable:predict',\n",
    "    'http://model-server:8501/v1/models/conv_model/labels/latest:predict',\n",
    "    'http://model-server:8501/v1/models/flat_model/versions/1:predict'\n",
    "]"
   ]
  },
  {
   "cell_type": "code",
   "execution_count": null,
   "id": "quick-single",
   "metadata": {},
   "outputs": [],
   "source": [
    "%%timeit -n10 -r 10\n",
    "json_response = requests.post(\n",
    "    urls[0],\n",
    "    data=data,\n",
    "    headers=headers\n",
    ")"
   ]
  }
 ],
 "metadata": {
  "kernelspec": {
   "display_name": "Python 3",
   "language": "python",
   "name": "python3"
  },
  "language_info": {
   "codemirror_mode": {
    "name": "ipython",
    "version": 3
   },
   "file_extension": ".py",
   "mimetype": "text/x-python",
   "name": "python",
   "nbconvert_exporter": "python",
   "pygments_lexer": "ipython3",
   "version": "3.8.5"
  }
 },
 "nbformat": 4,
 "nbformat_minor": 5
}
